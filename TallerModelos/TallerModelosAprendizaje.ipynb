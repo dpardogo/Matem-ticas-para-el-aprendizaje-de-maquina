{
  "cells": [
    {
      "cell_type": "markdown",
      "metadata": {
        "id": "s-y8Kil2snGk"
      },
      "source": [
        "# Taller modelos de aprendizaje\n",
        "\n",
        "Partiendo de los problemas del taller modelos de SVM, implemente un modelo de aprendizaje de maquina que considere los espacios de hipótesis revisados en clase. El modelo debe garantizar:\n",
        "\n",
        "1. Generalización por medio de una estrategia de adecuada de validación cruzada.\n",
        "2. Ajuste de hiperparametros (con una selección adecuada de hiperparametros para cada modelo)\n",
        "\n"
      ]
    },
    {
      "cell_type": "markdown",
      "metadata": {
        "id": "7h9mlJr8cIWR"
      },
      "source": [
        "# Detección de ocupación"
      ]
    },
    {
      "cell_type": "markdown",
      "metadata": {
        "id": "KBrL3lDpXkoB"
      },
      "source": [
        "1. Se trata de un problema de clasificación binaria, es decir, queremos predecir con ayuda de un modelo de aprendizaje de máquina si una habitación está ocupada o no. Para ello, tenemos datos de sensores que miden la temperatura, luminosidad y niveles de $CO_2$."
      ]
    },
    {
      "cell_type": "markdown",
      "metadata": {
        "id": "F7mw8lReeHpq"
      },
      "source": [
        "2. El conjunto de datos tiene 7 atributos :\n",
        "  * **Fecha y hora:** Momento en el que se tomó la medición.\n",
        "  * **Temperatura(°C):**  \n",
        "  * **Humedad relativa(%):** Se refiere a la proporción entre la  cantidad de vapor de agua en el aire y la cantidad máxima de vapor que soporta el aire en la temperatura actual.\n",
        "  * **Nivel de iluminación(Lux):** Cantidad de luz visible que llega a un area determinada.\n",
        "  * **Nivel de $CO_2$ (ppm):** Concentración de $CO_2$ en el aire.\n",
        "  * **Ratio de humedad** Razon entre la cantidad  vapor de agua y la cantidad de aire seco.\n",
        "\n",
        "Los datos están etiquetados con 1 o 0 si la habitación está ocupada o no.\n"
      ]
    },
    {
      "cell_type": "code",
      "execution_count": null,
      "metadata": {
        "id": "_6uZEwin4OG6"
      },
      "outputs": [],
      "source": [
        "!wget https://archive.ics.uci.edu/ml/machine-learning-databases/00357/occupancy_data.zip\n",
        "from zipfile import ZipFile\n",
        "import pandas as pd\n",
        "\n",
        "\n",
        "path='occupancy_data.zip'\n",
        "files = ZipFile(path,'r').extractall('.')                           #Descomprimimos el archivo zip\n",
        "\n",
        "data_test = pd.read_csv('datatest.txt', sep = ',', header=0)\n",
        "data_test2 = pd.read_csv('datatest2.txt', sep = ',', header=0)\n",
        "data_training = pd.read_csv('datatraining.txt', sep = ',', header=0)\n",
        "\n",
        "data_test.columns"
      ]
    },
    {
      "cell_type": "code",
      "execution_count": null,
      "metadata": {
        "id": "-YXacG1HevR6"
      },
      "outputs": [],
      "source": [
        "#form = lambda x: x.groupby('Occupancy').apply(lambda x: np.delete(np.array(x),-1, axis=1)).to_dict()\n",
        "form = lambda x: (np.array(x.loc[:, x.columns!=\"Occupancy\"]),np.array(x[\"Occupancy\"]))\n",
        "\n",
        "X_testOcc, y_testOcc = form(data_test)\n",
        "X_test2Occ, y_test2Occ = form(data_test2)\n",
        "X_trainOcc, y_trainOcc = form(data_training)\n"
      ]
    },
    {
      "cell_type": "markdown",
      "metadata": {
        "id": "y2NcAPv4Qj-N"
      },
      "source": [
        "# Detección de billetes falsos"
      ]
    },
    {
      "cell_type": "markdown",
      "metadata": {
        "id": "0-5xsDb5gOH6"
      },
      "source": [
        "1. Al igual que el problema anterior se trata de clasificación binaria, en este caso se busca decidir si un billete es falso o no a travéz de caracteristicas de imagenes en escala de grises con un tamaño de 400x400 pixeles."
      ]
    },
    {
      "cell_type": "markdown",
      "metadata": {
        "id": "wpCbr4Qqhs1w"
      },
      "source": [
        "2. El conjunto de datos cuenta con 5 atributos, que :\n",
        "* **Varianza de la imagen transformada por Wavelet:** Distancia media de los pixeles al promedio de pixeles\n",
        "* **Asimetría de la imagen transformada por Wavelet:** Valor que indica la asimetría en el histograma de la distribución de probabilidad de los pixeles\n",
        "* **Curtosis de la imagen transformada por Wavelet:** Medida estadistica que indica la concentración del valor de los pixeles alrededor de la media.\n",
        "* **Entropía de la imagen :** Cantidad de información de la imagen, se calcula hallando la incertidumbre de la distribución de probabilidad de los pixeles"
      ]
    },
    {
      "cell_type": "markdown",
      "metadata": {
        "id": "vJ1zwa8qqZJD"
      },
      "source": [
        "La mayoría de las caracteristicas del conjunto de datos involucran a la imagen transformada por Wavelet, esta transformación suele ser usada en procesamiento de imagenes para descomponer la información de la imagen en señales de alta frecuencia (detalles pequeños) y señales de baja frecuencia (fronteras marcadas). Podemos ver un ejemplo de la transformada a continuación."
      ]
    },
    {
      "cell_type": "code",
      "execution_count": null,
      "metadata": {
        "id": "j7eCR1LBjLCy"
      },
      "outputs": [],
      "source": [
        "import numpy as np\n",
        "import matplotlib.pyplot as plt\n",
        "import pywt\n",
        "from skimage import data\n",
        "\n",
        "image = data.camera()\n",
        "wavelet = 'haar'\n",
        "coeffs = pywt.dwt2(image, wavelet)\n",
        "\n",
        "# Extraer los coeficientes aproximados y detallados\n",
        "cA, (cH, cV, cD) = coeffs\n",
        "\n",
        "fig, axes = plt.subplots(2, 2, figsize=(8, 8))\n",
        "ax = axes.ravel()\n",
        "\n",
        "ax[0].imshow(cA, cmap=plt.cm.gray)\n",
        "ax[0].set_title('Aproximación')\n",
        "\n",
        "ax[1].imshow(cH, cmap=plt.cm.gray)\n",
        "ax[1].set_title('Horizontal')\n",
        "\n",
        "ax[2].imshow(cV, cmap=plt.cm.gray)\n",
        "ax[2].set_title('Vertical')\n",
        "\n",
        "ax[3].imshow(cD, cmap=plt.cm.gray)\n",
        "ax[3].set_title('Diagonal')\n",
        "\n",
        "for a in ax:\n",
        "    a.set_axis_off()\n",
        "\n",
        "plt.tight_layout()\n",
        "plt.show()"
      ]
    },
    {
      "cell_type": "markdown",
      "metadata": {
        "id": "fidkErM8qLVC"
      },
      "source": [
        "3. "
      ]
    },
    {
      "cell_type": "code",
      "execution_count": null,
      "metadata": {
        "id": "RMb7LDmdQ2Gt"
      },
      "outputs": [],
      "source": [
        "data = pd.read_csv('https://archive.ics.uci.edu/ml/machine-learning-databases/00267/data_banknote_authentication.txt', sep = ',', header=None)"
      ]
    },
    {
      "cell_type": "code",
      "execution_count": null,
      "metadata": {
        "id": "dI18We2CRPfz"
      },
      "outputs": [],
      "source": [
        "data.columns = [\"variance\", \"skewness\", \"curtosis\", \"entropy\", \"class\"]\n",
        "data"
      ]
    },
    {
      "cell_type": "code",
      "execution_count": null,
      "metadata": {
        "id": "bA-M8PYwW757"
      },
      "outputs": [],
      "source": [
        "data[\"class\"]=data[\"class\"].replace(0,-1)\n",
        "data"
      ]
    },
    {
      "cell_type": "code",
      "execution_count": null,
      "metadata": {
        "id": "WruhO7ARYStS"
      },
      "outputs": [],
      "source": [
        "from sklearn.model_selection import train_test_split\n",
        "\n",
        "X = data.drop('class', axis=1)  \n",
        "y = data['class']             \n",
        "\n",
        "X_trainBank, X_testBank, y_trainBank, y_testBank = map(np.array,train_test_split(X, y, test_size=0.2, random_state=42))"
      ]
    }
  ],
  "metadata": {
    "colab": {
      "provenance": []
    },
    "kernelspec": {
      "display_name": "Python 3",
      "name": "python3"
    },
    "language_info": {
      "name": "python"
    }
  },
  "nbformat": 4,
  "nbformat_minor": 0
}
