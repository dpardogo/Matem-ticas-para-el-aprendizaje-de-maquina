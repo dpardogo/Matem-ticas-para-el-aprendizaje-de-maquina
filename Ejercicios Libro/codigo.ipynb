{
  "nbformat": 4,
  "nbformat_minor": 0,
  "metadata": {
    "colab": {
      "provenance": []
    },
    "kernelspec": {
      "name": "python3",
      "display_name": "Python 3"
    },
    "language_info": {
      "name": "python"
    }
  },
  "cells": [
    {
      "cell_type": "markdown",
      "source": [
        "# Importación e instalación de dependencias"
      ],
      "metadata": {
        "id": "TxAEffFPlK_B"
      }
    },
    {
      "cell_type": "code",
      "source": [
        "import numpy as np\n",
        "import matplotlib.pyplot as plt\n",
        "import math"
      ],
      "metadata": {
        "id": "ebv91freD3gp"
      },
      "execution_count": null,
      "outputs": []
    },
    {
      "cell_type": "code",
      "source": [
        "!sudo apt-get install texlive-latex-extra texlive-fonts-recommended dvipng cm-super"
      ],
      "metadata": {
        "colab": {
          "base_uri": "https://localhost:8080/"
        },
        "id": "vXkctn7-aJud",
        "outputId": "e77f2ef7-d56a-4acb-c725-6abe879e9565"
      },
      "execution_count": null,
      "outputs": [
        {
          "output_type": "stream",
          "name": "stdout",
          "text": [
            "Reading package lists... Done\n",
            "Building dependency tree       \n",
            "Reading state information... Done\n",
            "texlive-fonts-recommended is already the newest version (2019.20200218-1).\n",
            "texlive-fonts-recommended set to manually installed.\n",
            "The following additional packages will be installed:\n",
            "  cm-super-minimal fonts-lato ghostscript javascript-common libapache-pom-java\n",
            "  libcommons-logging-java libcommons-parent-java libfontbox-java libjs-jquery\n",
            "  libpdfbox-java libruby2.7 pfb2t1c2pfb preview-latex-style rake ruby\n",
            "  ruby-minitest ruby-net-telnet ruby-power-assert ruby-test-unit ruby-xmlrpc\n",
            "  ruby2.7 rubygems-integration texlive-pictures texlive-plain-generic\n",
            "Suggested packages:\n",
            "  ghostscript-x apache2 | lighttpd | httpd libavalon-framework-java\n",
            "  libcommons-logging-java-doc libexcalibur-logkit-java liblog4j1.2-java ri\n",
            "  ruby-dev bundler python3-pygments icc-profiles libfile-which-perl\n",
            "  libspreadsheet-parseexcel-perl texlive-latex-extra-doc dot2tex prerex\n",
            "  ruby-tcltk | libtcltk-ruby texlive-pictures-doc vprerex default-jre-headless\n",
            "The following NEW packages will be installed:\n",
            "  cm-super cm-super-minimal dvipng fonts-lato ghostscript javascript-common\n",
            "  libapache-pom-java libcommons-logging-java libcommons-parent-java\n",
            "  libfontbox-java libjs-jquery libpdfbox-java libruby2.7 pfb2t1c2pfb\n",
            "  preview-latex-style rake ruby ruby-minitest ruby-net-telnet\n",
            "  ruby-power-assert ruby-test-unit ruby-xmlrpc ruby2.7 rubygems-integration\n",
            "  texlive-latex-extra texlive-pictures texlive-plain-generic\n",
            "0 upgraded, 27 newly installed, 0 to remove and 24 not upgraded.\n",
            "Need to get 78.8 MB of archives.\n",
            "After this operation, 243 MB of additional disk space will be used.\n",
            "Get:1 http://archive.ubuntu.com/ubuntu focal/main amd64 fonts-lato all 2.0-2 [2,698 kB]\n",
            "Get:2 http://archive.ubuntu.com/ubuntu focal/universe amd64 cm-super-minimal all 0.3.4-15 [5,811 kB]\n",
            "Get:3 http://archive.ubuntu.com/ubuntu focal/universe amd64 pfb2t1c2pfb amd64 0.3-11 [9,342 B]\n",
            "Get:4 http://archive.ubuntu.com/ubuntu focal/universe amd64 cm-super all 0.3.4-15 [18.7 MB]\n",
            "Get:5 http://archive.ubuntu.com/ubuntu focal-updates/main amd64 ghostscript amd64 9.50~dfsg-5ubuntu4.7 [51.9 kB]\n",
            "Get:6 http://archive.ubuntu.com/ubuntu focal/universe amd64 dvipng amd64 1.15-1.1 [78.9 kB]\n",
            "Get:7 http://archive.ubuntu.com/ubuntu focal/main amd64 javascript-common all 11 [6,066 B]\n",
            "Get:8 http://archive.ubuntu.com/ubuntu focal/universe amd64 libapache-pom-java all 18-1 [4,720 B]\n",
            "Get:9 http://archive.ubuntu.com/ubuntu focal/universe amd64 libcommons-parent-java all 43-1 [10.8 kB]\n",
            "Get:10 http://archive.ubuntu.com/ubuntu focal/universe amd64 libcommons-logging-java all 1.2-2 [60.3 kB]\n",
            "Get:11 http://archive.ubuntu.com/ubuntu focal/main amd64 libjs-jquery all 3.3.1~dfsg-3 [329 kB]\n",
            "Get:12 http://archive.ubuntu.com/ubuntu focal/main amd64 rubygems-integration all 1.16 [5,092 B]\n",
            "Get:13 http://archive.ubuntu.com/ubuntu focal-updates/main amd64 ruby2.7 amd64 2.7.0-5ubuntu1.10 [95.6 kB]\n",
            "Get:14 http://archive.ubuntu.com/ubuntu focal/main amd64 ruby amd64 1:2.7+1 [5,412 B]\n",
            "Get:15 http://archive.ubuntu.com/ubuntu focal/main amd64 rake all 13.0.1-4 [61.6 kB]\n",
            "Get:16 http://archive.ubuntu.com/ubuntu focal/main amd64 ruby-minitest all 5.13.0-1 [40.9 kB]\n",
            "Get:17 http://archive.ubuntu.com/ubuntu focal/main amd64 ruby-net-telnet all 0.1.1-2 [12.6 kB]\n",
            "Get:18 http://archive.ubuntu.com/ubuntu focal/main amd64 ruby-power-assert all 1.1.7-1 [11.4 kB]\n",
            "Get:19 http://archive.ubuntu.com/ubuntu focal/main amd64 ruby-test-unit all 3.3.5-1 [73.2 kB]\n",
            "Get:20 http://archive.ubuntu.com/ubuntu focal/main amd64 ruby-xmlrpc all 0.3.0-2 [23.8 kB]\n",
            "Get:21 http://archive.ubuntu.com/ubuntu focal-updates/main amd64 libruby2.7 amd64 2.7.0-5ubuntu1.10 [3,532 kB]\n",
            "Get:22 http://archive.ubuntu.com/ubuntu focal/universe amd64 preview-latex-style all 11.91-2ubuntu2 [184 kB]\n",
            "Get:23 http://archive.ubuntu.com/ubuntu focal/universe amd64 libfontbox-java all 1:1.8.16-2 [207 kB]\n",
            "Get:24 http://archive.ubuntu.com/ubuntu focal/universe amd64 libpdfbox-java all 1:1.8.16-2 [5,199 kB]\n",
            "Get:25 http://archive.ubuntu.com/ubuntu focal/universe amd64 texlive-pictures all 2019.20200218-1 [4,492 kB]\n",
            "Get:26 http://archive.ubuntu.com/ubuntu focal/universe amd64 texlive-latex-extra all 2019.202000218-1 [12.5 MB]\n",
            "Get:27 http://archive.ubuntu.com/ubuntu focal/universe amd64 texlive-plain-generic all 2019.202000218-1 [24.6 MB]\n",
            "Fetched 78.8 MB in 1s (76.5 MB/s)\n",
            "debconf: unable to initialize frontend: Dialog\n",
            "debconf: (No usable dialog-like program is installed, so the dialog based frontend cannot be used. at /usr/share/perl5/Debconf/FrontEnd/Dialog.pm line 76, <> line 27.)\n",
            "debconf: falling back to frontend: Readline\n",
            "debconf: unable to initialize frontend: Readline\n",
            "debconf: (This frontend requires a controlling tty.)\n",
            "debconf: falling back to frontend: Teletype\n",
            "dpkg-preconfigure: unable to re-open stdin: \n",
            "Selecting previously unselected package fonts-lato.\n",
            "(Reading database ... 135471 files and directories currently installed.)\n",
            "Preparing to unpack .../00-fonts-lato_2.0-2_all.deb ...\n",
            "Unpacking fonts-lato (2.0-2) ...\n",
            "Selecting previously unselected package cm-super-minimal.\n",
            "Preparing to unpack .../01-cm-super-minimal_0.3.4-15_all.deb ...\n",
            "Unpacking cm-super-minimal (0.3.4-15) ...\n",
            "Selecting previously unselected package pfb2t1c2pfb.\n",
            "Preparing to unpack .../02-pfb2t1c2pfb_0.3-11_amd64.deb ...\n",
            "Unpacking pfb2t1c2pfb (0.3-11) ...\n",
            "Selecting previously unselected package cm-super.\n",
            "Preparing to unpack .../03-cm-super_0.3.4-15_all.deb ...\n",
            "Unpacking cm-super (0.3.4-15) ...\n",
            "Selecting previously unselected package ghostscript.\n",
            "Preparing to unpack .../04-ghostscript_9.50~dfsg-5ubuntu4.7_amd64.deb ...\n",
            "Unpacking ghostscript (9.50~dfsg-5ubuntu4.7) ...\n",
            "Selecting previously unselected package dvipng.\n",
            "Preparing to unpack .../05-dvipng_1.15-1.1_amd64.deb ...\n",
            "Unpacking dvipng (1.15-1.1) ...\n",
            "Selecting previously unselected package javascript-common.\n",
            "Preparing to unpack .../06-javascript-common_11_all.deb ...\n",
            "Unpacking javascript-common (11) ...\n",
            "Selecting previously unselected package libapache-pom-java.\n",
            "Preparing to unpack .../07-libapache-pom-java_18-1_all.deb ...\n",
            "Unpacking libapache-pom-java (18-1) ...\n",
            "Selecting previously unselected package libcommons-parent-java.\n",
            "Preparing to unpack .../08-libcommons-parent-java_43-1_all.deb ...\n",
            "Unpacking libcommons-parent-java (43-1) ...\n",
            "Selecting previously unselected package libcommons-logging-java.\n",
            "Preparing to unpack .../09-libcommons-logging-java_1.2-2_all.deb ...\n",
            "Unpacking libcommons-logging-java (1.2-2) ...\n",
            "Selecting previously unselected package libjs-jquery.\n",
            "Preparing to unpack .../10-libjs-jquery_3.3.1~dfsg-3_all.deb ...\n",
            "Unpacking libjs-jquery (3.3.1~dfsg-3) ...\n",
            "Selecting previously unselected package rubygems-integration.\n",
            "Preparing to unpack .../11-rubygems-integration_1.16_all.deb ...\n",
            "Unpacking rubygems-integration (1.16) ...\n",
            "Selecting previously unselected package ruby2.7.\n",
            "Preparing to unpack .../12-ruby2.7_2.7.0-5ubuntu1.10_amd64.deb ...\n",
            "Unpacking ruby2.7 (2.7.0-5ubuntu1.10) ...\n",
            "Selecting previously unselected package ruby.\n",
            "Preparing to unpack .../13-ruby_1%3a2.7+1_amd64.deb ...\n",
            "Unpacking ruby (1:2.7+1) ...\n",
            "Selecting previously unselected package rake.\n",
            "Preparing to unpack .../14-rake_13.0.1-4_all.deb ...\n",
            "Unpacking rake (13.0.1-4) ...\n",
            "Selecting previously unselected package ruby-minitest.\n",
            "Preparing to unpack .../15-ruby-minitest_5.13.0-1_all.deb ...\n",
            "Unpacking ruby-minitest (5.13.0-1) ...\n",
            "Selecting previously unselected package ruby-net-telnet.\n",
            "Preparing to unpack .../16-ruby-net-telnet_0.1.1-2_all.deb ...\n",
            "Unpacking ruby-net-telnet (0.1.1-2) ...\n",
            "Selecting previously unselected package ruby-power-assert.\n",
            "Preparing to unpack .../17-ruby-power-assert_1.1.7-1_all.deb ...\n",
            "Unpacking ruby-power-assert (1.1.7-1) ...\n",
            "Selecting previously unselected package ruby-test-unit.\n",
            "Preparing to unpack .../18-ruby-test-unit_3.3.5-1_all.deb ...\n",
            "Unpacking ruby-test-unit (3.3.5-1) ...\n",
            "Selecting previously unselected package ruby-xmlrpc.\n",
            "Preparing to unpack .../19-ruby-xmlrpc_0.3.0-2_all.deb ...\n",
            "Unpacking ruby-xmlrpc (0.3.0-2) ...\n",
            "Selecting previously unselected package libruby2.7:amd64.\n",
            "Preparing to unpack .../20-libruby2.7_2.7.0-5ubuntu1.10_amd64.deb ...\n",
            "Unpacking libruby2.7:amd64 (2.7.0-5ubuntu1.10) ...\n",
            "Selecting previously unselected package preview-latex-style.\n",
            "Preparing to unpack .../21-preview-latex-style_11.91-2ubuntu2_all.deb ...\n",
            "Unpacking preview-latex-style (11.91-2ubuntu2) ...\n",
            "Selecting previously unselected package libfontbox-java.\n",
            "Preparing to unpack .../22-libfontbox-java_1%3a1.8.16-2_all.deb ...\n",
            "Unpacking libfontbox-java (1:1.8.16-2) ...\n",
            "Selecting previously unselected package libpdfbox-java.\n",
            "Preparing to unpack .../23-libpdfbox-java_1%3a1.8.16-2_all.deb ...\n",
            "Unpacking libpdfbox-java (1:1.8.16-2) ...\n",
            "Selecting previously unselected package texlive-pictures.\n",
            "Preparing to unpack .../24-texlive-pictures_2019.20200218-1_all.deb ...\n",
            "Unpacking texlive-pictures (2019.20200218-1) ...\n",
            "Selecting previously unselected package texlive-latex-extra.\n",
            "Preparing to unpack .../25-texlive-latex-extra_2019.202000218-1_all.deb ...\n",
            "Unpacking texlive-latex-extra (2019.202000218-1) ...\n",
            "Selecting previously unselected package texlive-plain-generic.\n",
            "Preparing to unpack .../26-texlive-plain-generic_2019.202000218-1_all.deb ...\n",
            "Unpacking texlive-plain-generic (2019.202000218-1) ...\n",
            "Setting up pfb2t1c2pfb (0.3-11) ...\n",
            "Setting up javascript-common (11) ...\n",
            "Setting up fonts-lato (2.0-2) ...\n",
            "Setting up ruby-power-assert (1.1.7-1) ...\n",
            "Setting up preview-latex-style (11.91-2ubuntu2) ...\n",
            "Setting up libfontbox-java (1:1.8.16-2) ...\n",
            "Setting up texlive-plain-generic (2019.202000218-1) ...\n",
            "Setting up rubygems-integration (1.16) ...\n",
            "Setting up ghostscript (9.50~dfsg-5ubuntu4.7) ...\n",
            "Setting up ruby-minitest (5.13.0-1) ...\n",
            "Setting up ruby-test-unit (3.3.5-1) ...\n",
            "Setting up libapache-pom-java (18-1) ...\n",
            "Setting up ruby-net-telnet (0.1.1-2) ...\n",
            "Setting up texlive-pictures (2019.20200218-1) ...\n",
            "Setting up libjs-jquery (3.3.1~dfsg-3) ...\n",
            "Setting up ruby-xmlrpc (0.3.0-2) ...\n",
            "Setting up cm-super-minimal (0.3.4-15) ...\n",
            "Setting up libpdfbox-java (1:1.8.16-2) ...\n",
            "Setting up dvipng (1.15-1.1) ...\n",
            "Setting up libcommons-parent-java (43-1) ...\n",
            "Setting up libcommons-logging-java (1.2-2) ...\n",
            "Setting up texlive-latex-extra (2019.202000218-1) ...\n",
            "Setting up cm-super (0.3.4-15) ...\n",
            "Creating fonts. This may take some time... done.\n",
            "Setting up rake (13.0.1-4) ...\n",
            "Setting up libruby2.7:amd64 (2.7.0-5ubuntu1.10) ...\n",
            "Setting up ruby2.7 (2.7.0-5ubuntu1.10) ...\n",
            "Setting up ruby (1:2.7+1) ...\n",
            "Processing triggers for fontconfig (2.13.1-2ubuntu3) ...\n",
            "Processing triggers for libc-bin (2.31-0ubuntu9.9) ...\n",
            "Processing triggers for man-db (2.9.1-1) ...\n",
            "Processing triggers for tex-common (6.13) ...\n",
            "debconf: unable to initialize frontend: Dialog\n",
            "debconf: (No usable dialog-like program is installed, so the dialog based frontend cannot be used. at /usr/share/perl5/Debconf/FrontEnd/Dialog.pm line 76.)\n",
            "debconf: falling back to frontend: Readline\n",
            "Running mktexlsr. This may take some time... done.\n",
            "Running updmap-sys. This may take some time... done.\n",
            "Running mktexlsr /var/lib/texmf ... done.\n",
            "Building format(s) --all.\n",
            "\tThis may take some time... done.\n"
          ]
        }
      ]
    },
    {
      "cell_type": "markdown",
      "source": [
        "# 10. "
      ],
      "metadata": {
        "id": "lPHEC0ixdUTV"
      }
    },
    {
      "cell_type": "markdown",
      "source": [
        "  ##   $a)$\n",
        "  "
      ],
      "metadata": {
        "id": "ok7ZnGsWoOyZ"
      }
    },
    {
      "cell_type": "code",
      "execution_count": null,
      "metadata": {
        "id": "m11PoUaWBkKK"
      },
      "outputs": [],
      "source": [
        "def exp(x,flips,n):\n",
        "  \"\"\"Ejecuta el experimento de las monedas una vez\"\"\"\n",
        "  exp=np.zeros((flips,n))\n",
        "  \n",
        "  for i in range(flips):\n",
        "    #Lanzamiento de las monedas\n",
        "    exp[i]=np.random.randint(low=0,high=2,size=n)\n",
        "\n",
        "  all=np.mean(exp,axis=0) #Fracción de caras\n",
        "\n",
        "  v1=all[1]\n",
        "  vrand=np.random.choice(all)\n",
        "  vmin=np.min(all)\n",
        "\n",
        "  return v1,vrand,vmin"
      ]
    },
    {
      "cell_type": "code",
      "source": [
        "n=1000\n",
        "flips=10\n",
        "N=100000\n",
        "\n",
        "#Se ejecuta el experimento muchas veces\n",
        "data1=np.vectorize(exp)(np.zeros(N),flips,n)"
      ],
      "metadata": {
        "id": "iiaKUY-NwfY2"
      },
      "execution_count": null,
      "outputs": []
    },
    {
      "cell_type": "code",
      "source": [
        "plt.rcParams.update({\"text.usetex\": True}) #\n",
        "\n",
        "fig, axs = plt.subplots(1,3,sharey=True, tight_layout=True)\n",
        "n_bins = 10\n",
        "# Crear el histograma para data1\n",
        "axs[0].hist(data1[0],bins=n_bins, color='firebrick',label=r'$\\nu_1$')\n",
        "axs[1].hist(data1[1],bins=n_bins, color='burlywood',label=r'$\\nu_{rand}$')\n",
        "axs[2].hist(data1[2],bins=n_bins, color='mediumseagreen', label=r'$\\nu_{min}$')\n",
        "\n",
        "# Agregar leyenda\n",
        "\n",
        "axs[0].legend(loc='upper left')\n",
        "axs[1].legend(loc='upper left')\n",
        "axs[2].legend(loc='upper left')\n",
        "\n",
        "# Mostrar el gráfico\n",
        "plt.savefig('Histogramas.svg', format='svg')\n",
        "plt.show()"
      ],
      "metadata": {
        "colab": {
          "base_uri": "https://localhost:8080/",
          "height": 487
        },
        "id": "nY1WaYmAM2im",
        "outputId": "6bad5645-dc9d-4628-cc14-0591e9930325"
      },
      "execution_count": null,
      "outputs": [
        {
          "output_type": "display_data",
          "data": {
            "text/plain": [
              "<Figure size 640x480 with 3 Axes>"
            ],
            "image/png": "[encoded data removed]"
          },
          "metadata": {}
        }
      ]
    },
    {
      "cell_type": "markdown",
      "source": [
        "## $b)$"
      ],
      "metadata": {
        "id": "n9tYDgZqkBmm"
      }
    },
    {
      "cell_type": "code",
      "source": [
        "mu=0.5\n",
        "dif= lambda x: np.abs(x-mu)\n",
        "difs =np.vectorize(dif)(data1) #Cálculo de la distancia entre nu y mu\n",
        "\n",
        "eps=np.arange(0,0.5,0.001)\n",
        "hoeff= 2.0*np.exp(-2.0*flips*(eps**2)) #Cálculo de la cota\n",
        "\n",
        "prob= lambda x,indx: np.sum(difs[indx]>x)/N\n",
        "\n",
        "#Probabilidades de cada moneda\n",
        "p1=np.vectorize(prob)(eps,0)\n",
        "prand=np.vectorize(prob)(eps,1)\n",
        "pmin=np.vectorize(prob)(eps,2)"
      ],
      "metadata": {
        "id": "k9hoZYTIbdiS"
      },
      "execution_count": null,
      "outputs": []
    },
    {
      "cell_type": "code",
      "source": [
        "fig, ax = plt.subplots()\n",
        " \n",
        "#Gráfico de las probabilidades\n",
        "plt.plot(eps, hoeff, color='orange', label='Cota de Hoeffding Bound')\n",
        "plt.plot(eps, p1, color='r', linewidth=1, label='Moneda 1')\n",
        "plt.plot(eps, prand, color='g', linewidth=1, linestyle='dashed', label='Moneda aleatoria')\n",
        "plt.plot(eps, pmin, color='b', linewidth=1, linestyle='dashed', label='Moneda mínima')\n",
        "plt.xlabel(r'$\\epsilon$')\n",
        "plt.ylabel('Probabilidad ')\n",
        "plt.legend()\n",
        "plt.savefig('cota.svg', format='svg')\n",
        "plt.show()"
      ],
      "metadata": {
        "colab": {
          "base_uri": "https://localhost:8080/",
          "height": 446
        },
        "id": "HaLzea0wkxjj",
        "outputId": "0a77da0e-e70c-4dbc-d478-e0fd3aa880b6"
      },
      "execution_count": null,
      "outputs": [
        {
          "output_type": "display_data",
          "data": {
            "text/plain": [
              "<Figure size 640x480 with 1 Axes>"
            ],
            "image/png": "[encoded data removed]"
          },
          "metadata": {}
        }
      ]
    }
  ]
}